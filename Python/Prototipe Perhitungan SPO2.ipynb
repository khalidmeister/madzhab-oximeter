{
 "cells": [
  {
   "cell_type": "code",
   "execution_count": 3,
   "id": "c02e2be4",
   "metadata": {},
   "outputs": [],
   "source": [
    "import cv2\n",
    "import numpy as np\n",
    "\n",
    "video = cv2.VideoCapture('sampel.mp4')\n",
    "\n",
    "i = 0\n",
    "\n",
    "ac_r_ma = []\n",
    "ac_b_ma = []\n",
    "dc_r_ma = []\n",
    "dc_b_ma = []\n",
    "\n",
    "\n",
    "while(video.isOpened()):\n",
    "    ret, img = video.read()\n",
    "    \n",
    "    if ret == True:\n",
    "        # Crop the image\n",
    "        x = img.shape[0] // 2\n",
    "        y = img.shape[1] // 2\n",
    "        w, h = 500 // 2, 500 // 2\n",
    "        img = img[x-h:x+h, y-h:y+h, :]\n",
    "        \n",
    "        # Display the image\n",
    "        cv2.imshow('image', img)\n",
    "        \n",
    "        img = cv2.cvtColor(img, cv2.COLOR_BGR2RGB)\n",
    "        \n",
    "        i = i + 1\n",
    "        \n",
    "        # Get R and B band\n",
    "        r = img[:, :, 0]\n",
    "        b = img[:, :, 2]\n",
    "\n",
    "        # Get DC (Mean)\n",
    "        dc_r = r.mean()\n",
    "        dc_b = b.mean()\n",
    "\n",
    "        # Get AC (STD)\n",
    "        ac_r = r.std()\n",
    "        ac_b = b.std()\n",
    "        \n",
    "        ac_r_ma.append(ac_r)\n",
    "        ac_b_ma.append(ac_b)\n",
    "        dc_r_ma.append(dc_r)\n",
    "        dc_b_ma.append(dc_b)\n",
    "        \n",
    "        if cv2.waitKey(25) == ord('q'):\n",
    "            break\n",
    "    else:\n",
    "        break\n",
    "\n",
    "ac_r_ma = np.array(ac_r_ma)\n",
    "ac_b_ma = np.array(ac_b_ma)\n",
    "dc_r_ma = np.array(dc_r_ma)\n",
    "dc_b_ma = np.array(dc_b_ma)\n",
    "    \n",
    "video.release()\n",
    "cv2.destroyAllWindows()"
   ]
  },
  {
   "cell_type": "code",
   "execution_count": 4,
   "id": "39ca7f6c",
   "metadata": {},
   "outputs": [
    {
     "name": "stdout",
     "output_type": "stream",
     "text": [
      "Before:  (1920, 864, 3)\n",
      "After:  (50, 50, 3)\n"
     ]
    },
    {
     "data": {
      "text/plain": [
       "<matplotlib.image.AxesImage at 0x1f412f5f9d0>"
      ]
     },
     "execution_count": 4,
     "metadata": {},
     "output_type": "execute_result"
    },
    {
     "data": {
      "image/png": "[encoded data removed]",
      "text/plain": [
       "<Figure size 432x288 with 1 Axes>"
      ]
     },
     "metadata": {
      "needs_background": "light"
     },
     "output_type": "display_data"
    }
   ],
   "source": [
    "import matplotlib.pyplot as plt\n",
    "\n",
    "video = cv2.VideoCapture('sampel.mp4')\n",
    "\n",
    "ret, img = video.read()\n",
    "\n",
    "print(\"Before: \", img.shape)\n",
    "img = cv2.cvtColor(img, cv2.COLOR_BGR2RGB)\n",
    "\n",
    "# Crop\n",
    "x = img.shape[0] // 2\n",
    "y = img.shape[1] // 2\n",
    "w, h = 50 // 2, 50 // 2\n",
    "img = img[x-h:x+h, y-h:y+h, :]\n",
    "\n",
    "print(\"After: \", img.shape)\n",
    "plt.imshow(img)"
   ]
  },
  {
   "cell_type": "code",
   "execution_count": 5,
   "id": "b2d603f7",
   "metadata": {},
   "outputs": [
    {
     "data": {
      "text/plain": [
       "(5.903622105157322, 243.01799997368423, 2.4938114535045286, 16.193631342105263)"
      ]
     },
     "execution_count": 5,
     "metadata": {},
     "output_type": "execute_result"
    }
   ],
   "source": [
    "ac_r_ma.mean(), dc_r_ma.mean(), ac_b_ma.mean(), dc_b_ma.mean()"
   ]
  },
  {
   "cell_type": "code",
   "execution_count": 6,
   "id": "37bfccf8",
   "metadata": {
    "scrolled": true
   },
   "outputs": [
    {
     "name": "stdout",
     "output_type": "stream",
     "text": [
      "99.21126566818974\n"
     ]
    }
   ],
   "source": [
    "spo2 = 100 - 5 * ( (ac_r_ma.mean() / dc_r_ma.mean()) / (ac_b_ma.mean() / dc_b_ma.mean()) )\n",
    "print(spo2)"
   ]
  },
  {
   "cell_type": "code",
   "execution_count": 7,
   "id": "ed842296",
   "metadata": {},
   "outputs": [
    {
     "data": {
      "text/plain": [
       "0.15774686636205104"
      ]
     },
     "execution_count": 7,
     "metadata": {},
     "output_type": "execute_result"
    }
   ],
   "source": [
    "(ac_r_ma.mean() / dc_r_ma.mean()) / (ac_b_ma.mean() / dc_b_ma.mean())"
   ]
  }
 ],
 "metadata": {
  "kernelspec": {
   "display_name": "Python 3",
   "language": "python",
   "name": "python3"
  },
  "language_info": {
   "codemirror_mode": {
    "name": "ipython",
    "version": 3
   },
   "file_extension": ".py",
   "mimetype": "text/x-python",
   "name": "python",
   "nbconvert_exporter": "python",
   "pygments_lexer": "ipython3",
   "version": "3.8.8"
  }
 },
 "nbformat": 4,
 "nbformat_minor": 5
}
